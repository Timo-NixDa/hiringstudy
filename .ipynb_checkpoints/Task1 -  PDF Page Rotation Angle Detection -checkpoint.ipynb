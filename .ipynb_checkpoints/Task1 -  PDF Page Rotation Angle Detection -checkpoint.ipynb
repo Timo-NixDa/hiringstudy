{
 "cells": [
  {
   "cell_type": "markdown",
   "id": "3cf43550",
   "metadata": {
    "editable": true,
    "slideshow": {
     "slide_type": ""
    },
    "tags": []
   },
   "source": [
    "## PDF Page Rotation Angle Detection Task\n",
    "\n",
    "Objective:\n",
    "Implement the `determine_rotation_angle` function within the given code structure to detect the rotation angle of each page in a PDF file.\n",
    "\n",
    "Code Structure:\n",
    "The main function `rotate_all_pages_upright` is already implemented, but if necessary you are allowed to change its implementation. Your task is to complete the `determine_rotation_angle` function.\n",
    "\n",
    "Input:\n",
    "- A PDF file path (the function should be able to handle various PDF files)\n",
    "\n",
    "Output:\n",
    "- A list of integers, where each integer represents the rotation angle needed for a page in the PDF\n",
    "\n",
    "Rotation Angle:\n",
    "- The rotation angle should be in degrees, normalized to the range [0, 359].\n",
    "- 0 means the page is already upright\n",
    "- 90 means the page needs to be rotated 90 degrees clockwise to be upright\n",
    "- and so on...\n",
    "\n",
    "Task:\n",
    "1. Implement the `determine_rotation_angle` function:\n",
    "   - Input: A single page object (PdfReader.PageObject)\n",
    "   - Output: An integer representing the rotation angle in degrees\n",
    "\n",
    "2. The function should analyze the content of the page and determine the angle needed to make the page upright.\n",
    "\n",
    "Requirements:\n",
    "1. The function should work with different PDF files, not just a specific one.\n",
    "2. Implement robust methods to determine the correct rotation angle.\n",
    "3. Handle potential exceptions or edge cases (e.g., pages with mixed orientations, complex layouts).\n",
    "4. Optimize for both accuracy and processing speed, as the function will be called for each page in the PDF.\n",
    "\n",
    "Additional Considerations:\n",
    "- You are allowed to use up to 40GB of GPU VRAM if necessary for your implementation.\n",
    "- You may create as many additional functions as needed to support your implementation.\n",
    "- You may use additional libraries if required, but ensure they are imported properly.\n",
    "- Provide clear comments in your code to explain your rotation detection logic.\n",
    "\n",
    "Testing:\n",
    "- Test your implementation with various types of PDFs to ensure its robustness and generalizability.\n",
    "- The main script provides a way to test your implementation on a file named \"grouped_documents.pdf\".\n",
    "\n",
    "Note:\n",
    "The task involves determining the rotation angle only. The actual rotation of the pages is not required in this implementation."
   ]
  },
  {
   "cell_type": "code",
   "execution_count": 5,
   "id": "46a0042f",
   "metadata": {},
   "outputs": [
    {
     "name": "stdout",
     "output_type": "stream",
     "text": [
      "Rotation angles for each page: [0, 0, 0, 0, 0, 0, 0, 0, 0, 0, 0, 0, 0, 0, 0, 0, 0, 0]\n"
     ]
    }
   ],
   "source": [
    "from typing import List\n",
    "from PyPDF2 import PdfReader, PdfWriter\n",
    "import io\n",
    "import numpy as np\n",
    "from pdf2image import convert_from_path, convert_from_bytes\n",
    "\n",
    "def rotate_all_pages_upright(input_pdf: str) -> List[int]:\n",
    "    \"\"\"\n",
    "    Analyze all pages in the input PDF and determine the rotation angle needed for each page.\n",
    "\n",
    "    Args:\n",
    "    input_pdf (str): The file path of the input PDF.\n",
    "\n",
    "    Returns:\n",
    "    List[int]: A list of rotation angles (in degrees) for each page. \n",
    "               The angles are normalized to be in the range [0, 359].\n",
    "               0 means no rotation needed, 90 means 90 degrees clockwise, etc.\n",
    "    \"\"\"\n",
    "    reader = PdfReader(input_pdf)\n",
    "    writer = PdfWriter()\n",
    "    \n",
    "    angles = []\n",
    "    for page_number in range(len(reader.pages)):\n",
    "        current_page = reader.pages[page_number]\n",
    "        \n",
    "        rotation_angle = determine_rotation_angle(current_page)\n",
    "        angles.append(rotation_angle)\n",
    "    \n",
    "    return angles\n",
    "\n",
    "def determine_rotation_angle(page: 'PdfReader.PageObject') -> int:\n",
    "    \"\"\"\n",
    "    Determine the rotation angle needed to make the page upright.\n",
    "\n",
    "    Args:\n",
    "    page (PdfReader.PageObject): A single page from a PDF.\n",
    "\n",
    "    Returns:\n",
    "    int:  The rotation angle in degrees (e.g. 0, 90, 210).\n",
    "          The rotation angle is  normalized to be in the range [0, 359].\n",
    "          0 means the page is already upright, 90 means 90 degrees clockwise, etc.\n",
    "    \"\"\"\n",
    "    # Approach Tesseract\n",
    "    #image = convert_from_path('example.pdf')\n",
    "    # TODO: Implement the logic to determine the rotation angle of the pdf page\n",
    "    return 0\n",
    "\n",
    "# Usage\n",
    "input_pdf: str = \"grouped_documents.pdf\"\n",
    "rotation_angles: List[int] = rotate_all_pages_upright(input_pdf)\n",
    "print(f\"Rotation angles for each page: {rotation_angles}\")"
   ]
  },
  {
   "cell_type": "code",
   "execution_count": 20,
   "id": "f339c7be-2565-4eea-9156-765606451a33",
   "metadata": {},
   "outputs": [
    {
     "name": "stdout",
     "output_type": "stream",
     "text": [
      "Defaulting to user installation because normal site-packages is not writeable\n",
      "Requirement already satisfied: pdf2image in c:\\users\\timo4\\appdata\\roaming\\python\\python312\\site-packages (1.17.0)\n",
      "Requirement already satisfied: pillow in c:\\programdata\\anaconda3\\envs\\pdfsdrehen\\lib\\site-packages (from pdf2image) (10.4.0)\n",
      "Defaulting to user installation because normal site-packages is not writeable\n",
      "Requirement already satisfied: pytesseract in c:\\users\\timo4\\appdata\\roaming\\python\\python312\\site-packages (0.3.10)\n",
      "Requirement already satisfied: packaging>=21.3 in c:\\programdata\\anaconda3\\envs\\pdfsdrehen\\lib\\site-packages (from pytesseract) (24.1)\n",
      "Requirement already satisfied: Pillow>=8.0.0 in c:\\programdata\\anaconda3\\envs\\pdfsdrehen\\lib\\site-packages (from pytesseract) (10.4.0)\n",
      "Defaulting to user installation because normal site-packages is not writeable\n"
     ]
    },
    {
     "name": "stderr",
     "output_type": "stream",
     "text": [
      "ERROR: Could not find a version that satisfies the requirement cv2 (from versions: none)\n",
      "ERROR: No matching distribution found for cv2\n"
     ]
    }
   ],
   "source": [
    "# Install a pip package in the current Jupyter kernel\n",
    "import sys\n",
    "!{sys.executable} -m pip install pdf2image\n",
    "!{sys.executable} -m pip install pytesseract\n",
    "!{sys.executable} -m pip install cv2"
   ]
  },
  {
   "cell_type": "code",
   "execution_count": 149,
   "id": "65dc1aa2-a86e-4cfd-82d4-c4d53d4623e2",
   "metadata": {},
   "outputs": [],
   "source": [
    "from PIL import Image\n",
    "import pytesseract # install tessearct Library\n",
    "pytesseract.pytesseract.tesseract_cmd = r\"C:\\\\Program Files\\\\Tesseract-OCR\\\\tesseract.exe\""
   ]
  },
  {
   "cell_type": "code",
   "execution_count": 9,
   "id": "b52c0615-1f1b-446b-b8d6-7924209e925a",
   "metadata": {},
   "outputs": [],
   "source": [
    "\n",
    "'''\n",
    "The Angle of text in pictures can be analyzed with Tesseract, first the footer and header have to be removed\n",
    "'''\n",
    "def analyzePicture (pic: Image) -> (Image, int):\n",
    "    width, height = pic.size\n",
    "    print (\"Die Dimension ist\" + str(width) + \" \" + str(height))\n",
    "    try:\n",
    "       osd = pytesseract.image_to_data(pic, output_type='dict')\n",
    "    except:\n",
    "        osd = -1\n",
    "    print(osd)\n",
    "    return (pic, 0)"
   ]
  },
  {
   "cell_type": "code",
   "execution_count": null,
   "id": "02a8eb6e-63fd-4824-9cc7-1d45c74ed92f",
   "metadata": {},
   "outputs": [],
   "source": []
  },
  {
   "cell_type": "code",
   "execution_count": 10,
   "id": "6bad6686",
   "metadata": {
    "editable": true,
    "slideshow": {
     "slide_type": ""
    },
    "tags": []
   },
   "outputs": [
    {
     "name": "stdout",
     "output_type": "stream",
     "text": [
      "Die Dimension ist1700 2200\n",
      "{'level': [1, 2, 3, 4, 5, 4, 5, 4, 5, 4, 5, 3, 4, 5, 3, 4, 5, 3, 4, 5, 3, 4, 5, 4, 5, 4, 5, 4, 5, 4, 5, 4, 5, 4, 5, 3, 4, 5, 2, 3, 4, 5], 'page_num': [1, 1, 1, 1, 1, 1, 1, 1, 1, 1, 1, 1, 1, 1, 1, 1, 1, 1, 1, 1, 1, 1, 1, 1, 1, 1, 1, 1, 1, 1, 1, 1, 1, 1, 1, 1, 1, 1, 1, 1, 1, 1], 'block_num': [0, 1, 1, 1, 1, 1, 1, 1, 1, 1, 1, 1, 1, 1, 1, 1, 1, 1, 1, 1, 1, 1, 1, 1, 1, 1, 1, 1, 1, 1, 1, 1, 1, 1, 1, 1, 1, 1, 2, 2, 2, 2], 'par_num': [0, 0, 1, 1, 1, 1, 1, 1, 1, 1, 1, 2, 2, 2, 3, 3, 3, 4, 4, 4, 5, 5, 5, 5, 5, 5, 5, 5, 5, 5, 5, 5, 5, 5, 5, 6, 6, 6, 0, 1, 1, 1], 'line_num': [0, 0, 0, 1, 1, 2, 2, 3, 3, 4, 4, 0, 1, 1, 0, 1, 1, 0, 1, 1, 0, 1, 1, 2, 2, 3, 3, 4, 4, 5, 5, 6, 6, 7, 7, 0, 1, 1, 0, 0, 1, 1], 'word_num': [0, 0, 0, 0, 1, 0, 1, 0, 1, 0, 1, 0, 0, 1, 0, 0, 1, 0, 0, 1, 0, 0, 1, 0, 1, 0, 1, 0, 1, 0, 1, 0, 1, 0, 1, 0, 0, 1, 0, 0, 0, 1], 'left': [0, 103, 371, 446, 446, 414, 414, 392, 392, 371, 371, 347, 347, 347, 321, 321, 321, 292, 292, 292, 129, 267, 267, 247, 247, 224, 224, 193, 193, 171, 171, 151, 151, 129, 129, 103, 103, 103, 0, 0, 0, 0], 'top': [0, 2122, 2122, 2122, 2122, 2129, 2129, 2129, 2129, 2129, 2129, 2122, 2122, 2122, 2138, 2138, 2138, 2122, 2122, 2122, 2123, 2123, 2123, 2129, 2129, 2129, 2129, 2129, 2129, 2130, 2130, 2129, 2129, 2129, 2129, 2122, 2122, 2122, 0, 0, 0, 0], 'width': [1700, 362, 94, 19, 19, 19, 19, 18, 18, 19, 19, 21, 21, 21, 11, 11, 11, 11, 11, 11, 147, 9, 9, 16, 16, 19, 19, 27, 27, 17, 17, 17, 17, 19, 19, 23, 23, 23, 1700, 1700, 1700, 1700], 'height': [2200, 36, 36, 28, 28, 21, 21, 29, 29, 21, 21, 28, 28, 28, 4, 4, 4, 28, 28, 28, 27, 27, 27, 21, 21, 21, 21, 21, 21, 20, 20, 21, 21, 21, 21, 28, 28, 28, 2200, 2200, 2200, 2200], 'conf': [-1, -1, -1, -1, 41, -1, 0, -1, 68, -1, 70, -1, -1, 47, -1, -1, 0, -1, -1, 39, -1, -1, 4, -1, 56, -1, 42, -1, 50, -1, 11, -1, 0, -1, 34, -1, -1, 17, -1, -1, -1, 95], 'text': ['', '', '', '', 'N', '', '(o)', '', 'D', '', '©', '', '', 'a', '', '', '!', '', '', '_', '', '', '~', '', 'c', '', '©', '', '€', '', ')', '', '[S)', '', 'je)', '', '', '(a)', '', '', '', '']}\n",
      "Successfully converted PDF to images\n"
     ]
    }
   ],
   "source": [
    "\"\"\"\n",
    "Convert PDf to image for better processing\n",
    "# install toddler mit Conda https://stackoverflow.com/questions/46184239/extract-a-page-from-a-pdf-as-a-jpeg\n",
    "\"\"\"\n",
    "from pdf2image import convert_from_path\n",
    "\n",
    "pdf_images = convert_from_path('grouped_documents.pdf')\n",
    "pdf_images[1].show()\n",
    "analyzePicture(pdf_images[1])\n",
    "#for idx in range(len(pdf_images)):\n",
    "#    pdf_images[idx].save('pictures\\pdf_page_'+ str(idx+1) +'.png', 'PNG') \n",
    "#    analyzePicture(pdf_images[idx])\n",
    "print(\"Successfully converted PDF to images\")\n",
    "\n",
    "\n",
    "# pdf zum Bild machen -> Drehen mit Tesseract https://www.kaggle.com/code/dhorvay/pytesseract-orientation-script-detection-osd"
   ]
  },
  {
   "cell_type": "code",
   "execution_count": 17,
   "id": "76ee5a56-3474-45e9-8a3c-b40d56b3543f",
   "metadata": {},
   "outputs": [
    {
     "ename": "TesseractError",
     "evalue": "(1, 'Estimating resolution as 366 Too few characters. Skipping this page Warning. Invalid resolution 0 dpi. Using 70 instead. Too few characters. Skipping this page Error during processing.')",
     "output_type": "error",
     "traceback": [
      "\u001b[1;31m---------------------------------------------------------------------------\u001b[0m",
      "\u001b[1;31mTesseractError\u001b[0m                            Traceback (most recent call last)",
      "Cell \u001b[1;32mIn[17], line 3\u001b[0m\n\u001b[0;32m      1\u001b[0m \u001b[38;5;66;03m# Test Tesseact with different cases\u001b[39;00m\n\u001b[0;32m      2\u001b[0m im \u001b[38;5;241m=\u001b[39m Image\u001b[38;5;241m.\u001b[39mopen(\u001b[38;5;124m\"\u001b[39m\u001b[38;5;124m.\u001b[39m\u001b[38;5;130;01m\\\\\u001b[39;00m\u001b[38;5;124mTesseractTesting\u001b[39m\u001b[38;5;130;01m\\\\\u001b[39;00m\u001b[38;5;124mtest1.PNG\u001b[39m\u001b[38;5;124m\"\u001b[39m)\n\u001b[1;32m----> 3\u001b[0m osd \u001b[38;5;241m=\u001b[39m pytesseract\u001b[38;5;241m.\u001b[39mimage_to_osd(im, output_type\u001b[38;5;241m=\u001b[39m\u001b[38;5;124m'\u001b[39m\u001b[38;5;124mdict\u001b[39m\u001b[38;5;124m'\u001b[39m)\n\u001b[0;32m      4\u001b[0m \u001b[38;5;28mprint\u001b[39m(osd)\n",
      "File \u001b[1;32m~\\AppData\\Roaming\\Python\\Python312\\site-packages\\pytesseract\\pytesseract.py:552\u001b[0m, in \u001b[0;36mimage_to_osd\u001b[1;34m(image, lang, config, nice, output_type, timeout)\u001b[0m\n\u001b[0;32m    549\u001b[0m config \u001b[38;5;241m=\u001b[39m \u001b[38;5;124mf\u001b[39m\u001b[38;5;124m'\u001b[39m\u001b[38;5;124m--psm 0 \u001b[39m\u001b[38;5;132;01m{\u001b[39;00mconfig\u001b[38;5;241m.\u001b[39mstrip()\u001b[38;5;132;01m}\u001b[39;00m\u001b[38;5;124m'\u001b[39m\n\u001b[0;32m    550\u001b[0m args \u001b[38;5;241m=\u001b[39m [image, \u001b[38;5;124m'\u001b[39m\u001b[38;5;124mosd\u001b[39m\u001b[38;5;124m'\u001b[39m, lang, config, nice, timeout]\n\u001b[1;32m--> 552\u001b[0m \u001b[38;5;28;01mreturn\u001b[39;00m {\n\u001b[0;32m    553\u001b[0m     Output\u001b[38;5;241m.\u001b[39mBYTES: \u001b[38;5;28;01mlambda\u001b[39;00m: run_and_get_output(\u001b[38;5;241m*\u001b[39m(args \u001b[38;5;241m+\u001b[39m [\u001b[38;5;28;01mTrue\u001b[39;00m])),\n\u001b[0;32m    554\u001b[0m     Output\u001b[38;5;241m.\u001b[39mDICT: \u001b[38;5;28;01mlambda\u001b[39;00m: osd_to_dict(run_and_get_output(\u001b[38;5;241m*\u001b[39margs)),\n\u001b[0;32m    555\u001b[0m     Output\u001b[38;5;241m.\u001b[39mSTRING: \u001b[38;5;28;01mlambda\u001b[39;00m: run_and_get_output(\u001b[38;5;241m*\u001b[39margs),\n\u001b[0;32m    556\u001b[0m }[output_type]()\n",
      "File \u001b[1;32m~\\AppData\\Roaming\\Python\\Python312\\site-packages\\pytesseract\\pytesseract.py:554\u001b[0m, in \u001b[0;36mimage_to_osd.<locals>.<lambda>\u001b[1;34m()\u001b[0m\n\u001b[0;32m    549\u001b[0m config \u001b[38;5;241m=\u001b[39m \u001b[38;5;124mf\u001b[39m\u001b[38;5;124m'\u001b[39m\u001b[38;5;124m--psm 0 \u001b[39m\u001b[38;5;132;01m{\u001b[39;00mconfig\u001b[38;5;241m.\u001b[39mstrip()\u001b[38;5;132;01m}\u001b[39;00m\u001b[38;5;124m'\u001b[39m\n\u001b[0;32m    550\u001b[0m args \u001b[38;5;241m=\u001b[39m [image, \u001b[38;5;124m'\u001b[39m\u001b[38;5;124mosd\u001b[39m\u001b[38;5;124m'\u001b[39m, lang, config, nice, timeout]\n\u001b[0;32m    552\u001b[0m \u001b[38;5;28;01mreturn\u001b[39;00m {\n\u001b[0;32m    553\u001b[0m     Output\u001b[38;5;241m.\u001b[39mBYTES: \u001b[38;5;28;01mlambda\u001b[39;00m: run_and_get_output(\u001b[38;5;241m*\u001b[39m(args \u001b[38;5;241m+\u001b[39m [\u001b[38;5;28;01mTrue\u001b[39;00m])),\n\u001b[1;32m--> 554\u001b[0m     Output\u001b[38;5;241m.\u001b[39mDICT: \u001b[38;5;28;01mlambda\u001b[39;00m: osd_to_dict(run_and_get_output(\u001b[38;5;241m*\u001b[39margs)),\n\u001b[0;32m    555\u001b[0m     Output\u001b[38;5;241m.\u001b[39mSTRING: \u001b[38;5;28;01mlambda\u001b[39;00m: run_and_get_output(\u001b[38;5;241m*\u001b[39margs),\n\u001b[0;32m    556\u001b[0m }[output_type]()\n",
      "File \u001b[1;32m~\\AppData\\Roaming\\Python\\Python312\\site-packages\\pytesseract\\pytesseract.py:288\u001b[0m, in \u001b[0;36mrun_and_get_output\u001b[1;34m(image, extension, lang, config, nice, timeout, return_bytes)\u001b[0m\n\u001b[0;32m    277\u001b[0m \u001b[38;5;28;01mwith\u001b[39;00m save(image) \u001b[38;5;28;01mas\u001b[39;00m (temp_name, input_filename):\n\u001b[0;32m    278\u001b[0m     kwargs \u001b[38;5;241m=\u001b[39m {\n\u001b[0;32m    279\u001b[0m         \u001b[38;5;124m'\u001b[39m\u001b[38;5;124minput_filename\u001b[39m\u001b[38;5;124m'\u001b[39m: input_filename,\n\u001b[0;32m    280\u001b[0m         \u001b[38;5;124m'\u001b[39m\u001b[38;5;124moutput_filename_base\u001b[39m\u001b[38;5;124m'\u001b[39m: temp_name,\n\u001b[1;32m   (...)\u001b[0m\n\u001b[0;32m    285\u001b[0m         \u001b[38;5;124m'\u001b[39m\u001b[38;5;124mtimeout\u001b[39m\u001b[38;5;124m'\u001b[39m: timeout,\n\u001b[0;32m    286\u001b[0m     }\n\u001b[1;32m--> 288\u001b[0m     run_tesseract(\u001b[38;5;241m*\u001b[39m\u001b[38;5;241m*\u001b[39mkwargs)\n\u001b[0;32m    289\u001b[0m     filename \u001b[38;5;241m=\u001b[39m \u001b[38;5;124mf\u001b[39m\u001b[38;5;124m\"\u001b[39m\u001b[38;5;132;01m{\u001b[39;00mkwargs[\u001b[38;5;124m'\u001b[39m\u001b[38;5;124moutput_filename_base\u001b[39m\u001b[38;5;124m'\u001b[39m]\u001b[38;5;132;01m}\u001b[39;00m\u001b[38;5;132;01m{\u001b[39;00mextsep\u001b[38;5;132;01m}\u001b[39;00m\u001b[38;5;132;01m{\u001b[39;00mextension\u001b[38;5;132;01m}\u001b[39;00m\u001b[38;5;124m\"\u001b[39m\n\u001b[0;32m    290\u001b[0m     \u001b[38;5;28;01mwith\u001b[39;00m \u001b[38;5;28mopen\u001b[39m(filename, \u001b[38;5;124m'\u001b[39m\u001b[38;5;124mrb\u001b[39m\u001b[38;5;124m'\u001b[39m) \u001b[38;5;28;01mas\u001b[39;00m output_file:\n",
      "File \u001b[1;32m~\\AppData\\Roaming\\Python\\Python312\\site-packages\\pytesseract\\pytesseract.py:264\u001b[0m, in \u001b[0;36mrun_tesseract\u001b[1;34m(input_filename, output_filename_base, extension, lang, config, nice, timeout)\u001b[0m\n\u001b[0;32m    262\u001b[0m \u001b[38;5;28;01mwith\u001b[39;00m timeout_manager(proc, timeout) \u001b[38;5;28;01mas\u001b[39;00m error_string:\n\u001b[0;32m    263\u001b[0m     \u001b[38;5;28;01mif\u001b[39;00m proc\u001b[38;5;241m.\u001b[39mreturncode:\n\u001b[1;32m--> 264\u001b[0m         \u001b[38;5;28;01mraise\u001b[39;00m TesseractError(proc\u001b[38;5;241m.\u001b[39mreturncode, get_errors(error_string))\n",
      "\u001b[1;31mTesseractError\u001b[0m: (1, 'Estimating resolution as 366 Too few characters. Skipping this page Warning. Invalid resolution 0 dpi. Using 70 instead. Too few characters. Skipping this page Error during processing.')"
     ]
    }
   ],
   "source": [
    "# Test Tesseact with different cases\n",
    "im = Image.open(\".\\\\TesseractTesting\\\\test1.PNG\")\n",
    "osd = pytesseract.image_to_osd(im, output_type='dict')\n",
    "print(osd)\n"
   ]
  },
  {
   "cell_type": "code",
   "execution_count": 3,
   "id": "8adffc30-e1f4-47eb-af89-9dd9e17249b7",
   "metadata": {},
   "outputs": [
    {
     "name": "stdout",
     "output_type": "stream",
     "text": [
      "1\n",
      "before saving\n",
      "after saving\n",
      "2\n",
      "before saving\n",
      "after saving\n",
      "3\n",
      "before saving\n",
      "after saving\n",
      "4\n",
      "before saving\n",
      "after saving\n",
      "5\n",
      "before saving\n",
      "after saving\n",
      "6\n",
      "before saving\n",
      "after saving\n",
      "7\n",
      "before saving\n",
      "after saving\n",
      "8\n",
      "before saving\n",
      "after saving\n",
      "9\n",
      "before saving\n",
      "after saving\n",
      "10\n",
      "before saving\n",
      "after saving\n",
      "11\n",
      "before saving\n",
      "after saving\n",
      "12\n",
      "before saving\n",
      "after saving\n",
      "13\n",
      "before saving\n",
      "after saving\n",
      "14\n",
      "before saving\n",
      "after saving\n",
      "15\n",
      "before saving\n",
      "after saving\n",
      "16\n",
      "before saving\n",
      "after saving\n",
      "17\n",
      "before saving\n",
      "after saving\n",
      "18\n",
      "before saving\n",
      "after saving\n"
     ]
    }
   ],
   "source": [
    "import cv2\n",
    "\n",
    "for i in range (1, 19):\n",
    "    print (i)\n",
    "    img = cv2.imread(\".\\\\pictures\\\\pdf_page_\"+str(i)+\".png\")\n",
    "    h, w, c = img.shape\n",
    "    #print (c)\n",
    "    boxes = pytesseract.image_to_boxes(img) \n",
    "    for b in boxes.splitlines():\n",
    "        b = b.split(' ')\n",
    "        img = cv2.rectangle(img, (int(b[1]), h - int(b[2])), (int(b[3]), h - int(b[4])), (0, 255, 0), 2)\n",
    "        \n",
    "    print (\"before saving\")\n",
    "    cv2.imwrite(\".\\\\Boxes\\\\box\"+str(i)+\".png\", img)\n",
    "    print (\"after saving\")\n",
    "    #cv2.imshow('img', img)\n",
    "    #cv2.waitKey(0)"
   ]
  },
  {
   "cell_type": "code",
   "execution_count": 1,
   "id": "30eb6f85-1e8c-428f-99b9-4359fcb09206",
   "metadata": {},
   "outputs": [],
   "source": []
  },
  {
   "cell_type": "code",
   "execution_count": 5,
   "id": "8ab4baf0-e2a7-4780-8399-41a17baba95e",
   "metadata": {},
   "outputs": [
    {
     "name": "stdout",
     "output_type": "stream",
     "text": [
      "\n"
     ]
    }
   ],
   "source": [
    "im = Image.open(\".\\\\TesseractTesting\\\\test3Black.PNG\")\n",
    "osd = pytesseract.image_to_boxes(im)\n",
    "print(osd)"
   ]
  },
  {
   "cell_type": "code",
   "execution_count": 14,
   "id": "56589ed0-d447-4d23-bf5e-484911e4e030",
   "metadata": {
    "scrolled": true
   },
   "outputs": [
    {
     "name": "stdout",
     "output_type": "stream",
     "text": [
      "T 125 147 147 177 0\n",
      "h 142 147 160 182 0\n",
      "i 149 151 179 182 0\n",
      "s 181 157 199 178 0\n",
      "i 209 163 218 190 0\n",
      "s 219 164 237 185 0\n",
      "p 249 162 268 192 0\n",
      "a 270 174 290 196 0\n",
      "g 291 171 311 200 0\n",
      "e 312 182 331 204 0\n",
      "3 343 189 363 218 0\n",
      ", 356 189 363 218 0\n",
      "o 376 195 395 217 0\n",
      "f 395 199 405 228 0\n",
      "D 418 203 443 232 0\n",
      "o 446 208 465 230 0\n",
      "c 467 212 485 234 0\n",
      "u 486 216 505 238 0\n",
      "m 508 220 538 244 0\n",
      "e 539 227 558 249 0\n",
      "n 561 231 580 253 0\n",
      "t 580 235 593 261 0\n",
      "5 604 239 622 268 0\n",
      "\n"
     ]
    },
    {
     "data": {
      "text/plain": [
       "-1"
      ]
     },
     "execution_count": 14,
     "metadata": {},
     "output_type": "execute_result"
    }
   ],
   "source": [
    "img = cv2.imread(\".\\\\TesseractTesting\\\\test1.PNG\")\n",
    "h, w, c = img.shape\n",
    "#print (c)\n",
    "boxes = pytesseract.image_to_boxes(img) \n",
    "for b in boxes.splitlines():\n",
    "    b = b.split(' ')\n",
    "    img = cv2.rectangle(img, (int(b[1]), h - int(b[2])), (int(b[3]), h - int(b[4])), (0, 255, 0), 2)\n",
    "\n",
    "print (boxes)\n",
    "cv2.imshow('img', img)\n",
    "cv2.waitKey(0)"
   ]
  },
  {
   "cell_type": "code",
   "execution_count": 23,
   "id": "d5436e87-ea4c-4856-a0cc-2e4122412b56",
   "metadata": {},
   "outputs": [],
   "source": [
    "#https://stackoverflow.com/questions/28816046/\n",
    "#displaying-different-images-with-actual-size-in-matplotlib-subplot\n",
    "def display(image):\n",
    "    im_path = \"tempImage.jpg\"\n",
    "    cv2.imwrite(\"tempImage.jpg\", image)\n",
    "    \n",
    "    dpi = 80\n",
    "    im_data = plt.imread(im_path)\n",
    "\n",
    "    height, width  = im_data.shape[:2]\n",
    "    \n",
    "    # What size does the figure need to be in inches to fit the image?\n",
    "    figsize = width / float(dpi), height / float(dpi)\n",
    "\n",
    "    # Create a figure of the right size with one axes that takes up the full figure\n",
    "    fig = plt.figure(figsize=figsize)\n",
    "    ax = fig.add_axes([0, 0, 1, 1])\n",
    "\n",
    "    # Hide spines, ticks, etc.\n",
    "    ax.axis('off')\n",
    "\n",
    "    # Display the image.\n",
    "    ax.imshow(im_data, cmap='gray')\n",
    "\n",
    "    plt.show()"
   ]
  },
  {
   "cell_type": "code",
   "execution_count": 206,
   "id": "56e1c801-b875-4ab8-9998-6e5bcdab58e8",
   "metadata": {},
   "outputs": [],
   "source": [
    "def rotateImage(cvImage, angle: float):\n",
    "    newImage = cvImage.copy()\n",
    "    (h, w) = newImage.shape[:2]\n",
    "    center = (w // 2, h // 2)\n",
    "    M = cv2.getRotationMatrix2D(center, angle, 1.0)\n",
    "    newImage = cv2.warpAffine(newImage, M, (w, h), flags=cv2.INTER_CUBIC, borderMode=cv2.BORDER_REPLICATE)\n",
    "    return newImage\n",
    "\n",
    "def getSkewAngle(cvImage) -> float:\n",
    "    # Prep image, copy, convert to gray scale, blur, and threshold\n",
    "    newImage = cvImage.copy()\n",
    "    blur = cv2.GaussianBlur(gray, (9, 9), 0)\n",
    "    thresh = cv2.threshold(blur, 0, 255, cv2.THRESH_BINARY_INV + cv2.THRESH_OTSU)[1]\n",
    "\n",
    "    # Apply dilate to merge text into meaningful lines/paragraphs.\n",
    "    # Use larger kernel on X axis to merge characters into single line, cancelling out any spaces.\n",
    "    # But use smaller kernel on Y axis to separate between different blocks of text\n",
    "    kernel = cv2.getStructuringElement(cv2.MORPH_RECT, (30, 5))\n",
    "    dilate = cv2.dilate(thresh, kernel, iterations=2)\n",
    "\n",
    "    # Find all contours\n",
    "    contours, hierarchy = cv2.findContours(dilate, cv2.RETR_LIST, cv2.CHAIN_APPROX_SIMPLE)\n",
    "    contours = sorted(contours, key = cv2.contourArea, reverse = True)\n",
    "    for c in contours:\n",
    "        rect = cv2.boundingRect(c)\n",
    "        x,y,w,h = rect\n",
    "        cv2.rectangle(newImage,(x,y),(x+w,y+h),(0,255,0),2)\n",
    "\n",
    "    # Find largest contour and surround in min area box\n",
    "    largestContour = contours[0]\n",
    "    print (len(contours))\n",
    "    minAreaRect = cv2.minAreaRect(largestContour)\n",
    "    cv2.imwrite(\"temp/boxes.jpg\", newImage)\n",
    "    # Determine the angle. Convert it to the value that was originally used to obtain skewed image\n",
    "    angle = minAreaRect[-1]\n",
    "    if angle < -45:\n",
    "        angle = 90 + angle\n",
    "    return -1.0 * angle\n"
   ]
  },
  {
   "cell_type": "code",
   "execution_count": 210,
   "id": "490cf690-771a-4679-91eb-d861280d3ffa",
   "metadata": {},
   "outputs": [
    {
     "ename": "error",
     "evalue": "OpenCV(4.10.0) d:\\a\\opencv-python\\opencv-python\\opencv\\modules\\imgproc\\src\\color.simd_helpers.hpp:92: error: (-2:Unspecified error) in function '__cdecl cv::impl::`anonymous-namespace'::CvtHelper<struct cv::impl::`anonymous namespace'::Set<3,4,-1>,struct cv::impl::A0x46dff480::Set<1,-1,-1>,struct cv::impl::A0x46dff480::Set<0,2,5>,4>::CvtHelper(const class cv::_InputArray &,const class cv::_OutputArray &,int)'\n> Invalid number of channels in input image:\n>     'VScn::contains(scn)'\n> where\n>     'scn' is 1\n",
     "output_type": "error",
     "traceback": [
      "\u001b[1;31m---------------------------------------------------------------------------\u001b[0m",
      "\u001b[1;31merror\u001b[0m                                     Traceback (most recent call last)",
      "Cell \u001b[1;32mIn[210], line 26\u001b[0m\n\u001b[0;32m     23\u001b[0m img \u001b[38;5;241m=\u001b[39m img [\u001b[38;5;241m0\u001b[39m:\u001b[38;5;241m2000\u001b[39m, \u001b[38;5;241m0\u001b[39m:\u001b[38;5;241m2000\u001b[39m]\n\u001b[0;32m     24\u001b[0m img \u001b[38;5;241m=\u001b[39m rotateImage(img, \u001b[38;5;241m-\u001b[39m\u001b[38;5;241m20\u001b[39m)\n\u001b[1;32m---> 26\u001b[0m angle \u001b[38;5;241m=\u001b[39m getSkewAngle(img)\n\u001b[0;32m     27\u001b[0m \u001b[38;5;28mprint\u001b[39m (\u001b[38;5;124m\"\u001b[39m\u001b[38;5;124mDer Winkel ist \u001b[39m\u001b[38;5;124m\"\u001b[39m \u001b[38;5;241m+\u001b[39m \u001b[38;5;28mstr\u001b[39m(angle))\n\u001b[0;32m     28\u001b[0m img \u001b[38;5;241m=\u001b[39m rotateImage (img, \u001b[38;5;241m-\u001b[39m\u001b[38;5;241m1\u001b[39m\u001b[38;5;241m*\u001b[39mangle)\n",
      "Cell \u001b[1;32mIn[206], line 12\u001b[0m, in \u001b[0;36mgetSkewAngle\u001b[1;34m(cvImage)\u001b[0m\n\u001b[0;32m      9\u001b[0m \u001b[38;5;28;01mdef\u001b[39;00m \u001b[38;5;21mgetSkewAngle\u001b[39m(cvImage) \u001b[38;5;241m-\u001b[39m\u001b[38;5;241m>\u001b[39m \u001b[38;5;28mfloat\u001b[39m:\n\u001b[0;32m     10\u001b[0m     \u001b[38;5;66;03m# Prep image, copy, convert to gray scale, blur, and threshold\u001b[39;00m\n\u001b[0;32m     11\u001b[0m     newImage \u001b[38;5;241m=\u001b[39m cvImage\u001b[38;5;241m.\u001b[39mcopy()\n\u001b[1;32m---> 12\u001b[0m     gray \u001b[38;5;241m=\u001b[39m cv2\u001b[38;5;241m.\u001b[39mcvtColor(newImage, cv2\u001b[38;5;241m.\u001b[39mCOLOR_BGR2GRAY)\n\u001b[0;32m     13\u001b[0m     blur \u001b[38;5;241m=\u001b[39m cv2\u001b[38;5;241m.\u001b[39mGaussianBlur(gray, (\u001b[38;5;241m9\u001b[39m, \u001b[38;5;241m9\u001b[39m), \u001b[38;5;241m0\u001b[39m)\n\u001b[0;32m     14\u001b[0m     thresh \u001b[38;5;241m=\u001b[39m cv2\u001b[38;5;241m.\u001b[39mthreshold(blur, \u001b[38;5;241m0\u001b[39m, \u001b[38;5;241m255\u001b[39m, cv2\u001b[38;5;241m.\u001b[39mTHRESH_BINARY_INV \u001b[38;5;241m+\u001b[39m cv2\u001b[38;5;241m.\u001b[39mTHRESH_OTSU)[\u001b[38;5;241m1\u001b[39m]\n",
      "\u001b[1;31merror\u001b[0m: OpenCV(4.10.0) d:\\a\\opencv-python\\opencv-python\\opencv\\modules\\imgproc\\src\\color.simd_helpers.hpp:92: error: (-2:Unspecified error) in function '__cdecl cv::impl::`anonymous-namespace'::CvtHelper<struct cv::impl::`anonymous namespace'::Set<3,4,-1>,struct cv::impl::A0x46dff480::Set<1,-1,-1>,struct cv::impl::A0x46dff480::Set<0,2,5>,4>::CvtHelper(const class cv::_InputArray &,const class cv::_OutputArray &,int)'\n> Invalid number of channels in input image:\n>     'VScn::contains(scn)'\n> where\n>     'scn' is 1\n"
     ]
    }
   ],
   "source": [
    "# preprocess Pictures\n",
    "import math\n",
    "import cv2\n",
    "from matplotlib import pyplot as plt\n",
    "\n",
    "i = 3\n",
    "path = \".\\\\pictures\\\\pdf_page_\"+str(i)+\".png\"\n",
    "img = cv2.imread(path) # Load Image\n",
    "\n",
    "#Noise removal does not apply for example problem\n",
    "\n",
    "#Binarization\n",
    "img = cv2.cvtColor(img, cv2.COLOR_BGR2GRAY)\n",
    "thresh, img = cv2.threshold(img, 127, 255, cv2.THRESH_BINARY)\n",
    "\n",
    "#remove border\n",
    "contours, heiarchy = cv2.findContours(img, cv2.RETR_EXTERNAL, cv2.CHAIN_APPROX_SIMPLE)\n",
    "cntsSorted = sorted(contours, key=lambda x:cv2.contourArea(x))\n",
    "cnt = cntsSorted[-1]\n",
    "x, y, w, h = cv2.boundingRect(cnt)\n",
    "img = img[y:y+h, x:x+w]\n",
    "\n",
    "img = img [0:2000, 0:2000]\n",
    "img = rotateImage(img, -20)\n",
    "\n",
    "angle = getSkewAngle(img)\n",
    "print (\"Der Winkel ist \" + str(angle))\n",
    "img = rotateImage (img, -1*angle)\n",
    "\n",
    "#print (pytesseract.image_to_osd(img, output_type='dict'))\n",
    "h, w = img.shape\n",
    "boxes = pytesseract.image_to_boxes(img) \n",
    "for b in boxes.splitlines():\n",
    "    b = b.split(' ')\n",
    "    img = cv2.rectangle(img, (int(b[1]), h - int(b[2])), (int(b[3]), h - int(b[4])), (0, 255, 0), 2)\n",
    "\n",
    "\n",
    "\n",
    "\n",
    "display(img)\n",
    "#cv2.imshow('img', im_bw)\n",
    "#cv2.waitKey(0)\n",
    "\"\"\"gray_image = cv2.cvtColor(img, cv2.COLOR_BGR2GRAY)\n",
    "width, height, _ = img.shape\n",
    "cropped = gray_image [math.floor(0 + 0.05*width) : math.floor(width - 0.05-width), math.floor(0+0.05*height):math.floor(height-0.05*height)]\n",
    "\n",
    "\n",
    "cv2.imwrite(\".\\\\processImages\\\\img\"+str(i)+\".png\", cropped)\n",
    "print (\"after saving\")\"\"\"\n"
   ]
  },
  {
   "cell_type": "code",
   "execution_count": 180,
   "id": "dce1c707-04f5-424b-a89e-73b2431c76b3",
   "metadata": {},
   "outputs": [
    {
     "ename": "SyntaxError",
     "evalue": "unterminated string literal (detected at line 5) (823137519.py, line 5)",
     "output_type": "error",
     "traceback": [
      "\u001b[1;36m  Cell \u001b[1;32mIn[180], line 5\u001b[1;36m\u001b[0m\n\u001b[1;33m    print (\"hello World\u001b[0m\n\u001b[1;37m           ^\u001b[0m\n\u001b[1;31mSyntaxError\u001b[0m\u001b[1;31m:\u001b[0m unterminated string literal (detected at line 5)\n"
     ]
    }
   ],
   "source": [
    "#https://becominghuman.ai/how-to-automatically-deskew-straighten-a-text-image-using-opencv-a0c30aed83df\n",
    "import numpy as np\n",
    "\n",
    "def getSkewAngle(cvImage) -> float:\n",
    "    print (\"hello World\n",
    "    # Prep image, copy, convert to gray scale, blur, and threshold\n",
    "    newImage = cvImage.copy()\n",
    "    gray = cv2.cvtColor(newImage, cv2.COLOR_BGR2GRAY)\n",
    "    blur = cv2.GaussianBlur(gray, (9, 9), 0)\n",
    "    thresh = cv2.threshold(blur, 0, 255, cv2.THRESH_BINARY_INV + cv2.THRESH_OTSU)[1]\n",
    "\n",
    "    # Apply dilate to merge text into meaningful lines/paragraphs.\n",
    "    # Use larger kernel on X axis to merge characters into single line, cancelling out any spaces.\n",
    "    # But use smaller kernel on Y axis to separate between different blocks of text\n",
    "    kernel = cv2.getStructuringElement(cv2.MORPH_RECT, (30, 5))\n",
    "    dilate = cv2.dilate(thresh, kernel, iterations=2)\n",
    "\n",
    "    # Find all contours\n",
    "    contours, hierarchy = cv2.findContours(dilate, cv2.RETR_LIST, cv2.CHAIN_APPROX_SIMPLE)\n",
    "    contours = sorted(contours, key = cv2.contourArea, reverse = True)\n",
    "    for c in contours:\n",
    "        rect = cv2.boundingRect(c)\n",
    "        x,y,w,h = rect\n",
    "        cv2.rectangle(newImage,(x,y),(x+w,y+h),(0,255,0),2)\n",
    "\n",
    "    # Find largest contour and surround in min area box\n",
    "    largestContour = contours[0]\n",
    "    print (len(contours))\n",
    "    minAreaRect = cv2.minAreaRect(largestContour)\n",
    "    cv2.imwrite(\".//temp/boxes.jpg\", newImage)\n",
    "    # Determine the angle. Convert it to the value that was originally used to obtain skewed image\n",
    "    angle = minAreaRect[-1]\n",
    "    if angle < -45:\n",
    "        angle = 90 + angle\n",
    "    return -1.0 * angle\n",
    "# Rotate the image around its center\n",
    "def rotateImage(cvImage, angle: float):\n",
    "    newImage = cvImage.copy()\n",
    "    (h, w) = newImage.shape[:2]\n",
    "    center = (w // 2, h // 2)\n",
    "    M = cv2.getRotationMatrix2D(center, angle, 1.0)\n",
    "    newImage = cv2.warpAffine(newImage, M, (w, h), flags=cv2.INTER_CUBIC, borderMode=cv2.BORDER_REPLICATE)\n",
    "    return newImage"
   ]
  },
  {
   "cell_type": "code",
   "execution_count": 83,
   "id": "d9692f9b-57cd-4c0f-9756-e92b29c60ddc",
   "metadata": {},
   "outputs": [],
   "source": [
    "# Deskew image\n",
    "def deskew(cvImage):\n",
    "    angle = getSkewAngle(cvImage)\n",
    "    return rotateImage(cvImage, -1.0 * angle)"
   ]
  },
  {
   "cell_type": "code",
   "execution_count": 154,
   "id": "b8e42c34-5d80-463d-9973-336d18ceb7fe",
   "metadata": {},
   "outputs": [
    {
     "name": "stdout",
     "output_type": "stream",
     "text": [
      "hello World\n",
      "1\n",
      "{'level': [1, 2, 3, 4, 5, 5, 5, 5, 5, 5], 'page_num': [1, 1, 1, 1, 1, 1, 1, 1, 1, 1], 'block_num': [0, 1, 1, 1, 1, 1, 1, 1, 1, 1], 'par_num': [0, 0, 1, 1, 1, 1, 1, 1, 1, 1], 'line_num': [0, 0, 0, 1, 1, 1, 1, 1, 1, 1], 'word_num': [0, 0, 0, 0, 1, 2, 3, 4, 5, 6], 'left': [0, 315, 315, 315, 317, 316, 316, 323, 315, 316], 'top': [0, 0, 0, 0, 0, 120, 166, 199, 296, 334], 'width': [704, 37, 37, 37, 29, 29, 28, 29, 30, 28], 'height': [361, 359, 359, 359, 107, 33, 19, 82, 23, 25], 'conf': [-1, -1, -1, -1, 48, 70, 83, 71, 68, 32], 'text': ['', '', '', '', 'unsoq', 'Jo', '¢', 'ebed', 'sI', 'sI']}\n"
     ]
    },
    {
     "data": {
      "image/png": "[encoded data removed]",
      "text/plain": [
       "<Figure size 880x451.25 with 1 Axes>"
      ]
     },
     "metadata": {},
     "output_type": "display_data"
    }
   ],
   "source": [
    "new = cv2.imread(\".//TesseractTesting//test1.png\")\n",
    "fixed = deskew(new)\n",
    "print (pytesseract.image_to_data(fixed, output_type='dict'))\n",
    "display (fixed)"
   ]
  },
  {
   "cell_type": "code",
   "execution_count": 23,
   "id": "e309c066-b31b-4b96-bab2-24c72de71441",
   "metadata": {},
   "outputs": [
    {
     "name": "stdout",
     "output_type": "stream",
     "text": [
      "1\n",
      "before saving\n",
      "after saving\n",
      "2\n",
      "before saving\n",
      "after saving\n",
      "3\n",
      "before saving\n",
      "after saving\n",
      "4\n",
      "before saving\n",
      "after saving\n",
      "5\n",
      "before saving\n",
      "after saving\n",
      "6\n",
      "before saving\n",
      "after saving\n",
      "7\n",
      "before saving\n",
      "after saving\n",
      "8\n",
      "before saving\n",
      "after saving\n",
      "9\n",
      "before saving\n",
      "after saving\n",
      "10\n",
      "before saving\n",
      "after saving\n",
      "11\n",
      "before saving\n",
      "after saving\n",
      "12\n",
      "before saving\n",
      "after saving\n",
      "13\n",
      "before saving\n",
      "after saving\n",
      "14\n",
      "before saving\n",
      "after saving\n",
      "15\n",
      "before saving\n",
      "after saving\n",
      "16\n",
      "before saving\n",
      "after saving\n",
      "17\n",
      "before saving\n",
      "after saving\n",
      "18\n",
      "before saving\n",
      "after saving\n"
     ]
    }
   ],
   "source": [
    "import cv2\n",
    "\n",
    "for i in range (1, 19):\n",
    "    print (i)\n",
    "    img = cv2.imread(\".\\\\processImages\\\\img\"+str(i)+\".png\")\n",
    "    h, w, c = img.shape\n",
    "    #print (c)\n",
    "    boxes = pytesseract.image_to_boxes(img) \n",
    "    for b in boxes.splitlines():\n",
    "        b = b.split(' ')\n",
    "        img = cv2.rectangle(img, (int(b[1]), h - int(b[2])), (int(b[3]), h - int(b[4])), (0, 255, 0), 2)\n",
    "        \n",
    "    print (\"before saving\")\n",
    "    cv2.imwrite(\".\\\\BoxesAfterProcessing\\\\box\"+str(i)+\".png\", img)\n",
    "    print (\"after saving\")\n",
    "    #cv2.imshow('img', img)\n",
    "    #cv2.waitKey(0)"
   ]
  },
  {
   "cell_type": "code",
   "execution_count": null,
   "id": "68fc4b2d-de64-4894-b138-67f0358d78ec",
   "metadata": {},
   "outputs": [],
   "source": []
  }
 ],
 "metadata": {
  "kernelspec": {
   "display_name": "Python 3 (ipykernel)",
   "language": "python",
   "name": "python3"
  },
  "language_info": {
   "codemirror_mode": {
    "name": "ipython",
    "version": 3
   },
   "file_extension": ".py",
   "mimetype": "text/x-python",
   "name": "python",
   "nbconvert_exporter": "python",
   "pygments_lexer": "ipython3",
   "version": "3.12.4"
  }
 },
 "nbformat": 4,
 "nbformat_minor": 5
}
